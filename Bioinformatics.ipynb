{
 "cells": [
  {
   "cell_type": "markdown",
   "metadata": {},
   "source": [
    "**Count DNA Nucleotides**"
   ]
  },
  {
   "cell_type": "code",
   "execution_count": 1,
   "metadata": {},
   "outputs": [
    {
     "name": "stdout",
     "output_type": "stream",
     "text": [
      "216 189 204 222\n"
     ]
    }
   ],
   "source": [
    "with open (\"rosalind_dna.txt\", \"r\") as dna_file:\n",
    "    s=dna_file.read()\n",
    "        \n",
    "a = 0\n",
    "c = 0\n",
    "g = 0\n",
    "t = 0\n",
    "\n",
    "for nucleotide in s:\n",
    "    if(nucleotide == 'A'):\n",
    "        a += 1\n",
    "    elif(nucleotide == 'C'):\n",
    "        c += 1\n",
    "    elif(nucleotide == 'G'):\n",
    "        g += 1\n",
    "    elif(nucleotide == 'T'):\n",
    "        t += 1\n",
    "\n",
    "print(a, c, g, t)\n",
    "        "
   ]
  }
 ],
 "metadata": {
  "kernelspec": {
   "display_name": "Python 3",
   "language": "python",
   "name": "python3"
  },
  "language_info": {
   "codemirror_mode": {
    "name": "ipython",
    "version": 3
   },
   "file_extension": ".py",
   "mimetype": "text/x-python",
   "name": "python",
   "nbconvert_exporter": "python",
   "pygments_lexer": "ipython3",
   "version": "3.6.5"
  }
 },
 "nbformat": 4,
 "nbformat_minor": 2
}
